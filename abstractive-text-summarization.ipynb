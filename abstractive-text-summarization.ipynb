{
 "cells": [
  {
   "cell_type": "markdown",
   "id": "pediatric-hamilton",
   "metadata": {},
   "source": [
    "# Abstractive Text Summarization with BART\n",
    "\n",
    "Model doc: https://huggingface.co/transformers/model_doc/bart.html"
   ]
  },
  {
   "cell_type": "code",
   "execution_count": 3,
   "id": "southeast-damages",
   "metadata": {},
   "outputs": [],
   "source": [
    "# Importing the model\n",
    "from transformers import BartForConditionalGeneration, BartTokenizer, BartConfig\n",
    "import pandas as pd"
   ]
  },
  {
   "cell_type": "code",
   "execution_count": 4,
   "id": "interracial-senior",
   "metadata": {},
   "outputs": [
    {
     "data": {
      "text/html": [
       "<div>\n",
       "<style scoped>\n",
       "    .dataframe tbody tr th:only-of-type {\n",
       "        vertical-align: middle;\n",
       "    }\n",
       "\n",
       "    .dataframe tbody tr th {\n",
       "        vertical-align: top;\n",
       "    }\n",
       "\n",
       "    .dataframe thead th {\n",
       "        text-align: right;\n",
       "    }\n",
       "</style>\n",
       "<table border=\"1\" class=\"dataframe\">\n",
       "  <thead>\n",
       "    <tr style=\"text-align: right;\">\n",
       "      <th></th>\n",
       "      <th>category</th>\n",
       "      <th>summary</th>\n",
       "      <th>text</th>\n",
       "    </tr>\n",
       "  </thead>\n",
       "  <tbody>\n",
       "    <tr>\n",
       "      <th>0</th>\n",
       "      <td>entertainment</td>\n",
       "      <td>Nigel McCune from the Musicians' Union said Br...</td>\n",
       "      <td>Musicians to tackle US red tape\\n\\nMusicians' ...</td>\n",
       "    </tr>\n",
       "    <tr>\n",
       "      <th>1</th>\n",
       "      <td>entertainment</td>\n",
       "      <td>But they still want more.They have to want to ...</td>\n",
       "      <td>U2's desire to be number one\\n\\nU2, who have w...</td>\n",
       "    </tr>\n",
       "    <tr>\n",
       "      <th>2</th>\n",
       "      <td>entertainment</td>\n",
       "      <td>Babyshambles, which he formed after his acrimo...</td>\n",
       "      <td>Rocker Doherty in on-stage fight\\n\\nRock singe...</td>\n",
       "    </tr>\n",
       "    <tr>\n",
       "      <th>3</th>\n",
       "      <td>entertainment</td>\n",
       "      <td>A Series of Unfortunate Events also stars Scot...</td>\n",
       "      <td>Snicket tops US box office chart\\n\\nThe film a...</td>\n",
       "    </tr>\n",
       "    <tr>\n",
       "      <th>4</th>\n",
       "      <td>entertainment</td>\n",
       "      <td>Ocean's Twelve, the crime caper sequel starrin...</td>\n",
       "      <td>Ocean's Twelve raids box office\\n\\nOcean's Twe...</td>\n",
       "    </tr>\n",
       "    <tr>\n",
       "      <th>...</th>\n",
       "      <td>...</td>\n",
       "      <td>...</td>\n",
       "      <td>...</td>\n",
       "    </tr>\n",
       "    <tr>\n",
       "      <th>2219</th>\n",
       "      <td>tech</td>\n",
       "      <td>Writing a Microsoft Word document can be a dan...</td>\n",
       "      <td>Warning over Windows Word files\\n\\nWriting a M...</td>\n",
       "    </tr>\n",
       "    <tr>\n",
       "      <th>2220</th>\n",
       "      <td>tech</td>\n",
       "      <td>The lifts take only 30 seconds to whisk passen...</td>\n",
       "      <td>Fast lifts rise into record books\\n\\nTwo high-...</td>\n",
       "    </tr>\n",
       "    <tr>\n",
       "      <th>2221</th>\n",
       "      <td>tech</td>\n",
       "      <td>Nintendo is releasing an adapter for its DS ha...</td>\n",
       "      <td>Nintendo adds media playing to DS\\n\\nNintendo ...</td>\n",
       "    </tr>\n",
       "    <tr>\n",
       "      <th>2222</th>\n",
       "      <td>tech</td>\n",
       "      <td>The new strains of the Cabir mobile phone viru...</td>\n",
       "      <td>Fast moving phone viruses appear\\n\\nSecurity f...</td>\n",
       "    </tr>\n",
       "    <tr>\n",
       "      <th>2223</th>\n",
       "      <td>tech</td>\n",
       "      <td>Security firm iDefence, which notified users o...</td>\n",
       "      <td>Hacker threat to Apple's iTunes\\n\\nUsers of Ap...</td>\n",
       "    </tr>\n",
       "  </tbody>\n",
       "</table>\n",
       "<p>2224 rows × 3 columns</p>\n",
       "</div>"
      ],
      "text/plain": [
       "           category                                            summary  \\\n",
       "0     entertainment  Nigel McCune from the Musicians' Union said Br...   \n",
       "1     entertainment  But they still want more.They have to want to ...   \n",
       "2     entertainment  Babyshambles, which he formed after his acrimo...   \n",
       "3     entertainment  A Series of Unfortunate Events also stars Scot...   \n",
       "4     entertainment  Ocean's Twelve, the crime caper sequel starrin...   \n",
       "...             ...                                                ...   \n",
       "2219           tech  Writing a Microsoft Word document can be a dan...   \n",
       "2220           tech  The lifts take only 30 seconds to whisk passen...   \n",
       "2221           tech  Nintendo is releasing an adapter for its DS ha...   \n",
       "2222           tech  The new strains of the Cabir mobile phone viru...   \n",
       "2223           tech  Security firm iDefence, which notified users o...   \n",
       "\n",
       "                                                   text  \n",
       "0     Musicians to tackle US red tape\\n\\nMusicians' ...  \n",
       "1     U2's desire to be number one\\n\\nU2, who have w...  \n",
       "2     Rocker Doherty in on-stage fight\\n\\nRock singe...  \n",
       "3     Snicket tops US box office chart\\n\\nThe film a...  \n",
       "4     Ocean's Twelve raids box office\\n\\nOcean's Twe...  \n",
       "...                                                 ...  \n",
       "2219  Warning over Windows Word files\\n\\nWriting a M...  \n",
       "2220  Fast lifts rise into record books\\n\\nTwo high-...  \n",
       "2221  Nintendo adds media playing to DS\\n\\nNintendo ...  \n",
       "2222  Fast moving phone viruses appear\\n\\nSecurity f...  \n",
       "2223  Hacker threat to Apple's iTunes\\n\\nUsers of Ap...  \n",
       "\n",
       "[2224 rows x 3 columns]"
      ]
     },
     "execution_count": 4,
     "metadata": {},
     "output_type": "execute_result"
    }
   ],
   "source": [
    "data = pd.read_csv(\"./data/data_news.csv\", encoding=\"utf-8\")\n",
    "data"
   ]
  },
  {
   "cell_type": "code",
   "execution_count": 2,
   "id": "protective-penalty",
   "metadata": {},
   "outputs": [],
   "source": [
    "# Loading the model and tokenizer for bart-large-cnn\n",
    "\n",
    "# bart-large-cnn model\n",
    "tokenizer = BartTokenizer.from_pretrained('facebook/bart-large-cnn')\n",
    "model = BartForConditionalGeneration.from_pretrained('facebook/bart-large-cnn')\n",
    "\n",
    "#bart base model\n",
    "#tokenizer = BartTokenizer.from_pretrained('facebook/bart-base')\n",
    "#model = BartForConditionalGeneration.from_pretrained('facebook/bart-base')"
   ]
  },
  {
   "cell_type": "code",
   "execution_count": 5,
   "id": "moving-chocolate",
   "metadata": {},
   "outputs": [],
   "source": [
    "# set the text to try to summarize\n",
    "\n",
    "n = 15\n",
    "original_text = data.text.values[n]\n",
    "original_summary = data.summary.values[n]\n"
   ]
  },
  {
   "cell_type": "code",
   "execution_count": 6,
   "id": "excessive-utilization",
   "metadata": {},
   "outputs": [],
   "source": [
    "# Encoding the inputs and passing them to model.generate()\n",
    "\n",
    "inputs = tokenizer.batch_encode_plus([original_text], return_tensors='pt')\n",
    "summary_ids = model.generate(inputs['input_ids'], early_stopping = True)"
   ]
  },
  {
   "cell_type": "code",
   "execution_count": 7,
   "id": "miniature-bruce",
   "metadata": {},
   "outputs": [],
   "source": [
    "# Decoding and printing the summary\n",
    "\n",
    "bart_summary = tokenizer.decode(summary_ids[0], skip_special_tokens=True)"
   ]
  },
  {
   "cell_type": "code",
   "execution_count": 8,
   "id": "finnish-advertiser",
   "metadata": {},
   "outputs": [
    {
     "name": "stdout",
     "output_type": "stream",
     "text": [
      "\n",
      "      Original Text: \n",
      "      \n",
      "      Rapper Snoop Dogg sued for 'rape'\n",
      "\n",
      "US rapper Snoop Dogg has been sued for $25m (£13m) by a make-up artist who claimed he and his entourage drugged and raped her two years ago.\n",
      "\n",
      "The woman said she was assaulted after a recording of the Jimmy Kimmel Live TV show on the ABC network in 2003. The rapper's spokesman said the allegations were \"untrue\" and the woman was \"misusing the legal system as a means of extracting financial gain\". ABC said the claims had \"no merit\". The star has not been charged by police.\n",
      "\n",
      "The lawsuit, filed in Los Angeles on Friday, says the woman's champagne was spiked and she was then assaulted. The rapper's spokesperson said: \"Snoop will have the opportunity to prove in a court of law that [the alleged victim] is opportunistic and deceitful. \"We are confident that in this case, [the alleged victim's] claims against Snoop Dogg will be rejected.\" The lawsuit names Snoop Dogg - real name Calvin Broadus - plus three associates, The Walt Disney Company and its parent company ABC Inc.\n",
      "\n",
      "The woman waited two years to sue because she was trying to negotiate a settlement with the media companies, her lawyer, Perry Wander, said. Disney and ABC \"failed to provide a safe working environment for my client,\" he said. The legal action comes after the rap star sued a woman who claimed they tried to blackmail him to keep quiet about an alleged assault. The 32-year-old rapper has enjoyed six US top 10 albums since bursting onto the music scene with hit songs like What's My Name? and Gin and Juice in 1993.\n",
      "\n",
      "      \n",
      "      Original Summary: \n",
      "      \n",
      "      The woman said she was assaulted after a recording of the Jimmy Kimmel Live TV show on the ABC network in 2003.ABC said the claims had \"no merit\".The rapper's spokesman said the allegations were \"untrue\" and the woman was \"misusing the legal system as a means of extracting financial gain\".US rapper Snoop Dogg has been sued for $25m (£13m) by a make-up artist who claimed he and his entourage drugged and raped her two years ago.The woman waited two years to sue because she was trying to negotiate a settlement with the media companies, her lawyer, Perry Wander, said.The rapper's spokesperson said: \"Snoop will have the opportunity to prove in a court of law that [the alleged victim] is opportunistic and deceitful.\n",
      "      \n",
      "      Generated Summary: \n",
      "      \n",
      "      Rapper Snoop Dogg sued for 'rape' by make-up artist. Woman claims he drugged and raped her two years ago. The rapper's spokesman said the allegations were \"untrue\" The star has not been charged by police and ABC said the claims had \"no merit\"\n",
      "      \n",
      "      \n"
     ]
    }
   ],
   "source": [
    "# let's try with BART\n",
    "\n",
    "print(f\"\"\"\n",
    "      Original Text: \n",
    "      \n",
    "      {original_text}\n",
    "      \n",
    "      Original Summary: \n",
    "      \n",
    "      {original_summary}\n",
    "      \n",
    "      Generated Summary: \n",
    "      \n",
    "      {bart_summary}\n",
    "      \n",
    "      \"\"\")"
   ]
  },
  {
   "cell_type": "code",
   "execution_count": 9,
   "id": "rocky-equipment",
   "metadata": {},
   "outputs": [],
   "source": [
    "# wow it's really good"
   ]
  },
  {
   "cell_type": "code",
   "execution_count": null,
   "id": "aggregate-momentum",
   "metadata": {},
   "outputs": [],
   "source": []
  }
 ],
 "metadata": {
  "kernelspec": {
   "display_name": "Python 3",
   "language": "python",
   "name": "python3"
  },
  "language_info": {
   "codemirror_mode": {
    "name": "ipython",
    "version": 3
   },
   "file_extension": ".py",
   "mimetype": "text/x-python",
   "name": "python",
   "nbconvert_exporter": "python",
   "pygments_lexer": "ipython3",
   "version": "3.8.6"
  }
 },
 "nbformat": 4,
 "nbformat_minor": 5
}
